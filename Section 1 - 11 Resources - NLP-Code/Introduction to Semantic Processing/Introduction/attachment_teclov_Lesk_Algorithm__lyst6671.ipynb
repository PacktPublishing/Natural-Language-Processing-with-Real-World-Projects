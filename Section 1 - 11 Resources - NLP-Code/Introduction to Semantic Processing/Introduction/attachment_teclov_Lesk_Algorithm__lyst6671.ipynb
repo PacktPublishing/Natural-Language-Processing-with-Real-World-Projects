{
 "cells": [
  {
   "cell_type": "code",
   "execution_count": null,
   "metadata": {},
   "outputs": [],
   "source": []
  },
  {
   "cell_type": "markdown",
   "metadata": {},
   "source": [
    "# Lesk Algorithm \n",
    "\n",
    "1. Tokenize the senses of the word \n",
    "2. Tokenize the sentence\n",
    "3. Count the overlapping words\n",
    "4. Do this for all the senses"
   ]
  },
  {
   "cell_type": "code",
   "execution_count": 24,
   "metadata": {},
   "outputs": [
    {
     "name": "stdout",
     "output_type": "stream",
     "text": [
      "['The', 'frog', 'jumping', 'around', 'bank', 'river']\n"
     ]
    }
   ],
   "source": [
    "import nltk\n",
    "from nltk.corpus import wordnet\n",
    "from nltk.corpus import stopwords\n",
    "\n",
    "\"\"\"Cleaning the sentence\n",
    "\"\"\"\n",
    "\n",
    "#nltk.download('stopwords') \n",
    "    \n",
    "sentence = \"The frog is jumping around the bank of the river\"\n",
    "word = 'bank'  #the ambiguous word\n",
    "\n",
    "from nltk.corpus import stopwords \n",
    "stop_words = set(stopwords.words('english'))\n",
    "#print(stop_words)\n",
    "\n",
    "word_tokens = nltk.word_tokenize(sentence) #tokenize the sentence\n",
    "\n",
    "#remove stopwords from word_tokens\n",
    "filtered_sentence = []\n",
    "for w in word_tokens:\n",
    "    if w not in stop_words:  #remove the stop_words from the sentence\n",
    "        filtered_sentence.append(w)  \n",
    "\n",
    "split_sentence = filtered_sentence\n",
    "\n",
    "print(split_sentence)\n"
   ]
  },
  {
   "cell_type": "code",
   "execution_count": 25,
   "metadata": {},
   "outputs": [
    {
     "name": "stdout",
     "output_type": "stream",
     "text": [
      "Synset('bank.n.01') sloping land (especially the slope beside a body of water)\n",
      "Synset('depository_financial_institution.n.01') a financial institution that accepts deposits and channels the money into lending activities\n",
      "Synset('bank.n.03') a long ridge or pile\n",
      "Synset('bank.n.04') an arrangement of similar objects in a row or in tiers\n",
      "Synset('bank.n.05') a supply or stock held in reserve for future use (especially in emergencies)\n",
      "Synset('bank.n.06') the funds held by a gambling house or the dealer in some gambling games\n",
      "Synset('bank.n.07') a slope in the turn of a road or track; the outside is higher than the inside in order to reduce the effects of centrifugal force\n",
      "Synset('savings_bank.n.02') a container (usually with a slot in the top) for keeping money at home\n",
      "Synset('bank.n.09') a building in which the business of banking transacted\n",
      "Synset('bank.n.10') a flight maneuver; aircraft tips laterally about its longitudinal axis (especially in turning)\n",
      "Synset('bank.v.01') tip laterally\n",
      "Synset('bank.v.02') enclose with a bank\n",
      "Synset('bank.v.03') do business with a bank or keep an account at a bank\n",
      "Synset('bank.v.04') act as the banker in a game or in gambling\n",
      "Synset('bank.v.05') be in the banking business\n",
      "Synset('deposit.v.02') put into a bank account\n",
      "Synset('bank.v.07') cover with ashes so to control the rate of burning\n",
      "Synset('trust.v.01') have confidence or faith in\n"
     ]
    }
   ],
   "source": [
    "#Let's see the different 'senses' of the word 'bank'\n",
    "#nltk.download('wordnet')\n",
    "for sense in wordnet.synsets(word):\n",
    "    print(sense, sense.definition())"
   ]
  },
  {
   "cell_type": "code",
   "execution_count": 26,
   "metadata": {},
   "outputs": [
    {
     "data": {
      "text/plain": [
       "'have confidence or faith in'"
      ]
     },
     "execution_count": 26,
     "metadata": {},
     "output_type": "execute_result"
    }
   ],
   "source": [
    "#Let's consider the last sense  \n",
    "sense.definition() "
   ]
  },
  {
   "cell_type": "code",
   "execution_count": 27,
   "metadata": {},
   "outputs": [
    {
     "name": "stdout",
     "output_type": "stream",
     "text": [
      "tokenized original sentence -                ['The', 'frog', 'jumping', 'around', 'bank', 'river']\n",
      "tokenized definition of the sense \"trust\" -  {'faith', 'in', 'confidence', 'or', 'have'}\n"
     ]
    }
   ],
   "source": [
    "print('tokenized original sentence -               ', split_sentence)\n",
    "tokenized_trust = set(nltk.word_tokenize(sense.definition()))\n",
    "print('tokenized definition of the sense \"trust\" - ', tokenized_trust) "
   ]
  },
  {
   "cell_type": "code",
   "execution_count": 28,
   "metadata": {},
   "outputs": [
    {
     "name": "stdout",
     "output_type": "stream",
     "text": [
      "set()\n"
     ]
    },
    {
     "data": {
      "text/plain": [
       "0"
      ]
     },
     "execution_count": 28,
     "metadata": {},
     "output_type": "execute_result"
    }
   ],
   "source": [
    "#Let's see how many words in sense 'trust' overlaps with the words in the original sentence\n",
    "#Words that occur in tokenized_trust as well as split_sentence\n",
    "common_words = tokenized_trust.intersection(split_sentence) \n",
    "print(common_words)\n",
    "\n",
    "#So there are 0 words that occur both in the original sentence and the definition of the sense 'trust' \n",
    "\n",
    "#count the number of these words\n",
    "len(common_words)"
   ]
  },
  {
   "cell_type": "markdown",
   "metadata": {},
   "source": [
    "### Let's choose that sense of the word 'bank' which maximally overlaps with the given sentence"
   ]
  },
  {
   "cell_type": "code",
   "execution_count": 31,
   "metadata": {},
   "outputs": [],
   "source": [
    "#word = 'bank'\n",
    "\n",
    "max_overlap = 0 \n",
    "best_sense = None \n",
    "\n",
    "for sense in wordnet.synsets(word):\n",
    "    tokenized_sense = set(nltk.word_tokenize(sense.definition()))\n",
    "    #print(tokenized_sense)\n",
    "    common_words = tokenized_sense.intersection(split_sentence)\n",
    "    #print(sense.definition(), common_words)\n",
    "    overlap = len(common_words)\n",
    "    \n",
    "    if overlap > max_overlap: \n",
    "        max_overlap = overlap\n",
    "        best_sense = sense\n",
    "        \n",
    "        "
   ]
  },
  {
   "cell_type": "code",
   "execution_count": 30,
   "metadata": {},
   "outputs": [
    {
     "data": {
      "text/plain": [
       "'enclose with a bank'"
      ]
     },
     "execution_count": 30,
     "metadata": {},
     "output_type": "execute_result"
    }
   ],
   "source": [
    "#So, the best sense of the word 'bank' is \n",
    "best_sense.definition()\n"
   ]
  },
  {
   "cell_type": "code",
   "execution_count": null,
   "metadata": {},
   "outputs": [],
   "source": []
  },
  {
   "cell_type": "code",
   "execution_count": null,
   "metadata": {},
   "outputs": [],
   "source": []
  },
  {
   "cell_type": "code",
   "execution_count": null,
   "metadata": {},
   "outputs": [],
   "source": []
  }
 ],
 "metadata": {
  "kernelspec": {
   "display_name": "Python [default]",
   "language": "python",
   "name": "python3"
  },
  "language_info": {
   "codemirror_mode": {
    "name": "ipython",
    "version": 3
   },
   "file_extension": ".py",
   "mimetype": "text/x-python",
   "name": "python",
   "nbconvert_exporter": "python",
   "pygments_lexer": "ipython3",
   "version": "3.5.4"
  }
 },
 "nbformat": 4,
 "nbformat_minor": 2
}
