{
 "cells": [
  {
   "cell_type": "code",
   "execution_count": 1,
   "metadata": {},
   "outputs": [],
   "source": [
    "import nltk"
   ]
  },
  {
   "cell_type": "code",
   "execution_count": 2,
   "metadata": {},
   "outputs": [
    {
     "name": "stdout",
     "output_type": "stream",
     "text": [
      "[['Seven', 'continent', 'planet'], ['Five', 'ocean', 'planet'], ['Asia', 'largest', 'continent'], ['Pacific', 'Ocean', 'largest'], ['Ocean', 'saline', 'water']]\n"
     ]
    }
   ],
   "source": [
    "TextCorpus = ['Seven continent planet',\n",
    "'Five ocean planet', \n",
    "'Asia largest continent', \n",
    "'Pacific Ocean largest', \n",
    "'Ocean saline water']\n",
    "\n",
    "text_tokens = [sent.split() for sent in TextCorpus]\n",
    "print(text_tokens)\n"
   ]
  },
  {
   "cell_type": "code",
   "execution_count": 3,
   "metadata": {},
   "outputs": [],
   "source": [
    "from sklearn.feature_extraction.text import TfidfVectorizer"
   ]
  },
  {
   "cell_type": "code",
   "execution_count": 4,
   "metadata": {},
   "outputs": [],
   "source": [
    "transformer = TfidfVectorizer()\n",
    "tfidf = transformer.fit_transform(TextCorpus) "
   ]
  },
  {
   "cell_type": "code",
   "execution_count": 5,
   "metadata": {},
   "outputs": [
    {
     "name": "stdout",
     "output_type": "stream",
     "text": [
      "  (0, 8)\t0.6591180018251055\n",
      "  (0, 1)\t0.5317722537280788\n",
      "  (0, 6)\t0.5317722537280788\n",
      "  (1, 6)\t0.5568161504458247\n",
      "  (1, 2)\t0.6901592662889633\n",
      "  (1, 4)\t0.46220770413113277\n",
      "  (2, 1)\t0.5317722537280788\n",
      "  (2, 0)\t0.6591180018251055\n",
      "  (2, 3)\t0.5317722537280788\n",
      "  (3, 4)\t0.46220770413113277\n",
      "  (3, 3)\t0.5568161504458247\n",
      "  (3, 5)\t0.6901592662889633\n",
      "  (4, 4)\t0.42799292268317357\n",
      "  (4, 7)\t0.6390704413963749\n",
      "  (4, 9)\t0.6390704413963749\n"
     ]
    }
   ],
   "source": [
    "print(tfidf)\n",
    "# (document number, term number)"
   ]
  },
  {
   "cell_type": "code",
   "execution_count": 6,
   "metadata": {},
   "outputs": [],
   "source": [
    "from sklearn.decomposition import TruncatedSVD\n",
    "svd = TruncatedSVD(n_components = 3)\n",
    "lsa = svd.fit_transform(tfidf.T)"
   ]
  },
  {
   "cell_type": "code",
   "execution_count": 7,
   "metadata": {},
   "outputs": [
    {
     "data": {
      "text/plain": [
       "array([[ 2.96093980e-01,  3.21358058e-01,  3.09860265e-01],\n",
       "       [ 4.77773518e-01,  5.18539316e-01,  4.45858570e-15],\n",
       "       [ 3.42561592e-01, -1.59982023e-01, -3.64540860e-01],\n",
       "       [ 5.15263294e-01,  1.30197169e-01,  5.44102582e-01],\n",
       "       [ 5.96632444e-01, -4.90698274e-01, -3.78297676e-15],\n",
       "       [ 3.42561592e-01, -1.59982023e-01,  3.64540860e-01],\n",
       "       [ 5.15263294e-01,  1.30197169e-01, -5.44102582e-01],\n",
       "       [ 2.05756406e-01, -4.12736768e-01, -3.84291116e-15],\n",
       "       [ 2.96093980e-01,  3.21358058e-01, -3.09860265e-01],\n",
       "       [ 2.05756406e-01, -4.12736768e-01, -3.84291116e-15]])"
      ]
     },
     "execution_count": 7,
     "metadata": {},
     "output_type": "execute_result"
    }
   ],
   "source": [
    "lsa"
   ]
  }
 ],
 "metadata": {
  "kernelspec": {
   "display_name": "Python [default]",
   "language": "python",
   "name": "python3"
  },
  "language_info": {
   "codemirror_mode": {
    "name": "ipython",
    "version": 3
   },
   "file_extension": ".py",
   "mimetype": "text/x-python",
   "name": "python",
   "nbconvert_exporter": "python",
   "pygments_lexer": "ipython3",
   "version": "3.5.4"
  }
 },
 "nbformat": 4,
 "nbformat_minor": 2
}
