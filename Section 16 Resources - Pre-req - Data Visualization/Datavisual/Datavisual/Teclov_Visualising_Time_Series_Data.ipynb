{
 "cells": [
  {
   "cell_type": "markdown",
   "metadata": {},
   "source": [
    "# Teclov : Visualising Time Series Data\n",
    "\n",
    "In the section, we will explore ways to visualise data gathered over time. We will:\n",
    "- Plot simple time series plots\n",
    "- Derive variables such as month and year and use them for richer visualisations\n",
    "\n"
   ]
  },
  {
   "cell_type": "code",
   "execution_count": 1,
   "metadata": {},
   "outputs": [],
   "source": [
    "# loading libraries and reading the data\n",
    "\n",
    "import numpy as np\n",
    "import pandas as pd\n",
    "import matplotlib.pyplot as plt\n",
    "import seaborn as sns\n",
    "\n",
    "# set seaborn theme if you prefer\n",
    "sns.set(style=\"white\")\n",
    "\n",
    "# read data\n",
    "market_df = pd.read_csv(\"./global_sales_data/market_fact.csv\")\n",
    "customer_df = pd.read_csv(\"./global_sales_data/cust_dimen.csv\")\n",
    "product_df = pd.read_csv(\"./global_sales_data/prod_dimen.csv\")\n",
    "shipping_df = pd.read_csv(\"./global_sales_data/shipping_dimen.csv\")\n",
    "orders_df = pd.read_csv(\"./global_sales_data/orders_dimen.csv\")"
   ]
  },
  {
   "cell_type": "markdown",
   "metadata": {},
   "source": [
    "## Visualising Simple Time Series Data\n",
    "\n",
    "Let's say you want to visualise numeric variables such as ```Sales```, ```Profit```, ```Shipping_Cost``` etc. over time. "
   ]
  },
  {
   "cell_type": "code",
   "execution_count": 2,
   "metadata": {},
   "outputs": [
    {
     "data": {
      "text/html": [
       "<div>\n",
       "<style scoped>\n",
       "    .dataframe tbody tr th:only-of-type {\n",
       "        vertical-align: middle;\n",
       "    }\n",
       "\n",
       "    .dataframe tbody tr th {\n",
       "        vertical-align: top;\n",
       "    }\n",
       "\n",
       "    .dataframe thead th {\n",
       "        text-align: right;\n",
       "    }\n",
       "</style>\n",
       "<table border=\"1\" class=\"dataframe\">\n",
       "  <thead>\n",
       "    <tr style=\"text-align: right;\">\n",
       "      <th></th>\n",
       "      <th>Ord_id</th>\n",
       "      <th>Prod_id</th>\n",
       "      <th>Ship_id</th>\n",
       "      <th>Cust_id</th>\n",
       "      <th>Sales</th>\n",
       "      <th>Discount</th>\n",
       "      <th>Order_Quantity</th>\n",
       "      <th>Profit</th>\n",
       "      <th>Shipping_Cost</th>\n",
       "      <th>Product_Base_Margin</th>\n",
       "    </tr>\n",
       "  </thead>\n",
       "  <tbody>\n",
       "    <tr>\n",
       "      <th>0</th>\n",
       "      <td>Ord_5446</td>\n",
       "      <td>Prod_16</td>\n",
       "      <td>SHP_7609</td>\n",
       "      <td>Cust_1818</td>\n",
       "      <td>136.81</td>\n",
       "      <td>0.01</td>\n",
       "      <td>23</td>\n",
       "      <td>-30.51</td>\n",
       "      <td>3.60</td>\n",
       "      <td>0.56</td>\n",
       "    </tr>\n",
       "    <tr>\n",
       "      <th>1</th>\n",
       "      <td>Ord_5406</td>\n",
       "      <td>Prod_13</td>\n",
       "      <td>SHP_7549</td>\n",
       "      <td>Cust_1818</td>\n",
       "      <td>42.27</td>\n",
       "      <td>0.01</td>\n",
       "      <td>13</td>\n",
       "      <td>4.56</td>\n",
       "      <td>0.93</td>\n",
       "      <td>0.54</td>\n",
       "    </tr>\n",
       "    <tr>\n",
       "      <th>2</th>\n",
       "      <td>Ord_5446</td>\n",
       "      <td>Prod_4</td>\n",
       "      <td>SHP_7610</td>\n",
       "      <td>Cust_1818</td>\n",
       "      <td>4701.69</td>\n",
       "      <td>0.00</td>\n",
       "      <td>26</td>\n",
       "      <td>1148.90</td>\n",
       "      <td>2.50</td>\n",
       "      <td>0.59</td>\n",
       "    </tr>\n",
       "    <tr>\n",
       "      <th>3</th>\n",
       "      <td>Ord_5456</td>\n",
       "      <td>Prod_6</td>\n",
       "      <td>SHP_7625</td>\n",
       "      <td>Cust_1818</td>\n",
       "      <td>2337.89</td>\n",
       "      <td>0.09</td>\n",
       "      <td>43</td>\n",
       "      <td>729.34</td>\n",
       "      <td>14.30</td>\n",
       "      <td>0.37</td>\n",
       "    </tr>\n",
       "    <tr>\n",
       "      <th>4</th>\n",
       "      <td>Ord_5485</td>\n",
       "      <td>Prod_17</td>\n",
       "      <td>SHP_7664</td>\n",
       "      <td>Cust_1818</td>\n",
       "      <td>4233.15</td>\n",
       "      <td>0.08</td>\n",
       "      <td>35</td>\n",
       "      <td>1219.87</td>\n",
       "      <td>26.30</td>\n",
       "      <td>0.38</td>\n",
       "    </tr>\n",
       "  </tbody>\n",
       "</table>\n",
       "</div>"
      ],
      "text/plain": [
       "     Ord_id  Prod_id   Ship_id    Cust_id    Sales  Discount  Order_Quantity  \\\n",
       "0  Ord_5446  Prod_16  SHP_7609  Cust_1818   136.81      0.01              23   \n",
       "1  Ord_5406  Prod_13  SHP_7549  Cust_1818    42.27      0.01              13   \n",
       "2  Ord_5446   Prod_4  SHP_7610  Cust_1818  4701.69      0.00              26   \n",
       "3  Ord_5456   Prod_6  SHP_7625  Cust_1818  2337.89      0.09              43   \n",
       "4  Ord_5485  Prod_17  SHP_7664  Cust_1818  4233.15      0.08              35   \n",
       "\n",
       "    Profit  Shipping_Cost  Product_Base_Margin  \n",
       "0   -30.51           3.60                 0.56  \n",
       "1     4.56           0.93                 0.54  \n",
       "2  1148.90           2.50                 0.59  \n",
       "3   729.34          14.30                 0.37  \n",
       "4  1219.87          26.30                 0.38  "
      ]
     },
     "execution_count": 2,
     "metadata": {},
     "output_type": "execute_result"
    }
   ],
   "source": [
    "market_df.head()"
   ]
  },
  {
   "cell_type": "markdown",
   "metadata": {},
   "source": [
    "Since the ```Order_Date``` variable is in the orders dataframe, let's merge it."
   ]
  },
  {
   "cell_type": "code",
   "execution_count": 3,
   "metadata": {},
   "outputs": [
    {
     "data": {
      "text/html": [
       "<div>\n",
       "<style scoped>\n",
       "    .dataframe tbody tr th:only-of-type {\n",
       "        vertical-align: middle;\n",
       "    }\n",
       "\n",
       "    .dataframe tbody tr th {\n",
       "        vertical-align: top;\n",
       "    }\n",
       "\n",
       "    .dataframe thead th {\n",
       "        text-align: right;\n",
       "    }\n",
       "</style>\n",
       "<table border=\"1\" class=\"dataframe\">\n",
       "  <thead>\n",
       "    <tr style=\"text-align: right;\">\n",
       "      <th></th>\n",
       "      <th>Ord_id</th>\n",
       "      <th>Prod_id</th>\n",
       "      <th>Ship_id</th>\n",
       "      <th>Cust_id</th>\n",
       "      <th>Sales</th>\n",
       "      <th>Discount</th>\n",
       "      <th>Order_Quantity</th>\n",
       "      <th>Profit</th>\n",
       "      <th>Shipping_Cost</th>\n",
       "      <th>Product_Base_Margin</th>\n",
       "      <th>Order_ID</th>\n",
       "      <th>Order_Date</th>\n",
       "      <th>Order_Priority</th>\n",
       "    </tr>\n",
       "  </thead>\n",
       "  <tbody>\n",
       "    <tr>\n",
       "      <th>0</th>\n",
       "      <td>Ord_5446</td>\n",
       "      <td>Prod_16</td>\n",
       "      <td>SHP_7609</td>\n",
       "      <td>Cust_1818</td>\n",
       "      <td>136.81</td>\n",
       "      <td>0.01</td>\n",
       "      <td>23</td>\n",
       "      <td>-30.51</td>\n",
       "      <td>3.60</td>\n",
       "      <td>0.56</td>\n",
       "      <td>36262</td>\n",
       "      <td>27-07-2010</td>\n",
       "      <td>NOT SPECIFIED</td>\n",
       "    </tr>\n",
       "    <tr>\n",
       "      <th>1</th>\n",
       "      <td>Ord_5446</td>\n",
       "      <td>Prod_4</td>\n",
       "      <td>SHP_7610</td>\n",
       "      <td>Cust_1818</td>\n",
       "      <td>4701.69</td>\n",
       "      <td>0.00</td>\n",
       "      <td>26</td>\n",
       "      <td>1148.90</td>\n",
       "      <td>2.50</td>\n",
       "      <td>0.59</td>\n",
       "      <td>36262</td>\n",
       "      <td>27-07-2010</td>\n",
       "      <td>NOT SPECIFIED</td>\n",
       "    </tr>\n",
       "    <tr>\n",
       "      <th>2</th>\n",
       "      <td>Ord_5446</td>\n",
       "      <td>Prod_6</td>\n",
       "      <td>SHP_7608</td>\n",
       "      <td>Cust_1818</td>\n",
       "      <td>164.02</td>\n",
       "      <td>0.03</td>\n",
       "      <td>23</td>\n",
       "      <td>-47.64</td>\n",
       "      <td>6.15</td>\n",
       "      <td>0.37</td>\n",
       "      <td>36262</td>\n",
       "      <td>27-07-2010</td>\n",
       "      <td>NOT SPECIFIED</td>\n",
       "    </tr>\n",
       "    <tr>\n",
       "      <th>3</th>\n",
       "      <td>Ord_5406</td>\n",
       "      <td>Prod_13</td>\n",
       "      <td>SHP_7549</td>\n",
       "      <td>Cust_1818</td>\n",
       "      <td>42.27</td>\n",
       "      <td>0.01</td>\n",
       "      <td>13</td>\n",
       "      <td>4.56</td>\n",
       "      <td>0.93</td>\n",
       "      <td>0.54</td>\n",
       "      <td>20513</td>\n",
       "      <td>07-07-2009</td>\n",
       "      <td>HIGH</td>\n",
       "    </tr>\n",
       "    <tr>\n",
       "      <th>4</th>\n",
       "      <td>Ord_5456</td>\n",
       "      <td>Prod_6</td>\n",
       "      <td>SHP_7625</td>\n",
       "      <td>Cust_1818</td>\n",
       "      <td>2337.89</td>\n",
       "      <td>0.09</td>\n",
       "      <td>43</td>\n",
       "      <td>729.34</td>\n",
       "      <td>14.30</td>\n",
       "      <td>0.37</td>\n",
       "      <td>39682</td>\n",
       "      <td>09-11-2010</td>\n",
       "      <td>MEDIUM</td>\n",
       "    </tr>\n",
       "  </tbody>\n",
       "</table>\n",
       "</div>"
      ],
      "text/plain": [
       "     Ord_id  Prod_id   Ship_id    Cust_id    Sales  Discount  Order_Quantity  \\\n",
       "0  Ord_5446  Prod_16  SHP_7609  Cust_1818   136.81      0.01              23   \n",
       "1  Ord_5446   Prod_4  SHP_7610  Cust_1818  4701.69      0.00              26   \n",
       "2  Ord_5446   Prod_6  SHP_7608  Cust_1818   164.02      0.03              23   \n",
       "3  Ord_5406  Prod_13  SHP_7549  Cust_1818    42.27      0.01              13   \n",
       "4  Ord_5456   Prod_6  SHP_7625  Cust_1818  2337.89      0.09              43   \n",
       "\n",
       "    Profit  Shipping_Cost  Product_Base_Margin  Order_ID  Order_Date  \\\n",
       "0   -30.51           3.60                 0.56     36262  27-07-2010   \n",
       "1  1148.90           2.50                 0.59     36262  27-07-2010   \n",
       "2   -47.64           6.15                 0.37     36262  27-07-2010   \n",
       "3     4.56           0.93                 0.54     20513  07-07-2009   \n",
       "4   729.34          14.30                 0.37     39682  09-11-2010   \n",
       "\n",
       "  Order_Priority  \n",
       "0  NOT SPECIFIED  \n",
       "1  NOT SPECIFIED  \n",
       "2  NOT SPECIFIED  \n",
       "3           HIGH  \n",
       "4         MEDIUM  "
      ]
     },
     "execution_count": 3,
     "metadata": {},
     "output_type": "execute_result"
    }
   ],
   "source": [
    "# merging with the Orders data to get the Date column\n",
    "df = pd.merge(market_df, orders_df, how='inner', on='Ord_id')\n",
    "df.head()"
   ]
  },
  {
   "cell_type": "code",
   "execution_count": 4,
   "metadata": {},
   "outputs": [
    {
     "name": "stdout",
     "output_type": "stream",
     "text": [
      "<class 'pandas.core.frame.DataFrame'>\n",
      "Int64Index: 8399 entries, 0 to 8398\n",
      "Data columns (total 13 columns):\n",
      "Ord_id                 8399 non-null object\n",
      "Prod_id                8399 non-null object\n",
      "Ship_id                8399 non-null object\n",
      "Cust_id                8399 non-null object\n",
      "Sales                  8399 non-null float64\n",
      "Discount               8399 non-null float64\n",
      "Order_Quantity         8399 non-null int64\n",
      "Profit                 8399 non-null float64\n",
      "Shipping_Cost          8399 non-null float64\n",
      "Product_Base_Margin    8336 non-null float64\n",
      "Order_ID               8399 non-null int64\n",
      "Order_Date             8399 non-null object\n",
      "Order_Priority         8399 non-null object\n",
      "dtypes: float64(5), int64(2), object(6)\n",
      "memory usage: 918.6+ KB\n"
     ]
    }
   ],
   "source": [
    "# Now we have the Order_Date in the df\n",
    "# It is stored as a string (object) currently\n",
    "df.info()"
   ]
  },
  {
   "cell_type": "markdown",
   "metadata": {},
   "source": [
    "Since ```Order_Date``` is a string, we need to convert it into a ```datetime``` object. You can do that using ```pd.to_datetime()```. "
   ]
  },
  {
   "cell_type": "code",
   "execution_count": 5,
   "metadata": {},
   "outputs": [
    {
     "name": "stdout",
     "output_type": "stream",
     "text": [
      "<class 'pandas.core.frame.DataFrame'>\n",
      "Int64Index: 8399 entries, 0 to 8398\n",
      "Data columns (total 13 columns):\n",
      "Ord_id                 8399 non-null object\n",
      "Prod_id                8399 non-null object\n",
      "Ship_id                8399 non-null object\n",
      "Cust_id                8399 non-null object\n",
      "Sales                  8399 non-null float64\n",
      "Discount               8399 non-null float64\n",
      "Order_Quantity         8399 non-null int64\n",
      "Profit                 8399 non-null float64\n",
      "Shipping_Cost          8399 non-null float64\n",
      "Product_Base_Margin    8336 non-null float64\n",
      "Order_ID               8399 non-null int64\n",
      "Order_Date             8399 non-null datetime64[ns]\n",
      "Order_Priority         8399 non-null object\n",
      "dtypes: datetime64[ns](1), float64(5), int64(2), object(5)\n",
      "memory usage: 918.6+ KB\n"
     ]
    }
   ],
   "source": [
    "# Convert Order_Date to datetime type\n",
    "df['Order_Date'] = pd.to_datetime(df['Order_Date'])\n",
    "\n",
    "# Order_Date is now datetime type\n",
    "df.info()"
   ]
  },
  {
   "cell_type": "markdown",
   "metadata": {},
   "source": [
    "Now, since on each day, multiple orders were placed, we need to aggregate ```Sales``` using a metric such as mean, median etc., and then create a time series plot.\n",
    "\n",
    "We will group by ```Order_Date``` and compute the sum of ```Sales``` on each day."
   ]
  },
  {
   "cell_type": "code",
   "execution_count": 6,
   "metadata": {},
   "outputs": [
    {
     "name": "stdout",
     "output_type": "stream",
     "text": [
      "Order_Date\n",
      "2009-01-01    1052.8400\n",
      "2009-01-02    5031.9000\n",
      "2009-01-03    7288.1375\n",
      "2009-01-04    6188.4245\n",
      "2009-01-05    2583.3300\n",
      "Name: Sales, dtype: float64\n",
      "<class 'pandas.core.series.Series'>\n"
     ]
    }
   ],
   "source": [
    "# aggregating total sales on each day\n",
    "time_df = df.groupby('Order_Date')['Sales'].sum()\n",
    "print(time_df.head())\n",
    "\n",
    "print(type(time_df))"
   ]
  },
  {
   "cell_type": "markdown",
   "metadata": {},
   "source": [
    "We can now create a time-series plot using ```sns.tsplot()```."
   ]
  },
  {
   "cell_type": "code",
   "execution_count": 7,
   "metadata": {},
   "outputs": [
    {
     "name": "stderr",
     "output_type": "stream",
     "text": [
      "/Users/shivank/anaconda/lib/python3.5/site-packages/seaborn/timeseries.py:183: UserWarning: The tsplot function is deprecated and will be removed or replaced (in a substantially altered version) in a future release.\n",
      "  warnings.warn(msg, UserWarning)\n"
     ]
    },
    {
     "data": {
      "image/png": "[encoded data removed]",
      "text/plain": [
       "<matplotlib.figure.Figure at 0x1a0d371748>"
      ]
     },
     "metadata": {},
     "output_type": "display_data"
    }
   ],
   "source": [
    "# time series plot\n",
    "\n",
    "# figure size\n",
    "plt.figure(figsize=(16, 8))\n",
    "\n",
    "# tsplot\n",
    "sns.tsplot(data=time_df)\n",
    "plt.show()"
   ]
  },
  {
   "cell_type": "markdown",
   "metadata": {},
   "source": [
    "### Using Derived Date Metrics for Visualisation\n",
    "\n",
    "It is often helpful to use derived variables from date such as month and year and using them to identify hidden patterns."
   ]
  },
  {
   "cell_type": "code",
   "execution_count": 8,
   "metadata": {},
   "outputs": [
    {
     "data": {
      "text/html": [
       "<div>\n",
       "<style scoped>\n",
       "    .dataframe tbody tr th:only-of-type {\n",
       "        vertical-align: middle;\n",
       "    }\n",
       "\n",
       "    .dataframe tbody tr th {\n",
       "        vertical-align: top;\n",
       "    }\n",
       "\n",
       "    .dataframe thead th {\n",
       "        text-align: right;\n",
       "    }\n",
       "</style>\n",
       "<table border=\"1\" class=\"dataframe\">\n",
       "  <thead>\n",
       "    <tr style=\"text-align: right;\">\n",
       "      <th></th>\n",
       "      <th>Ord_id</th>\n",
       "      <th>Prod_id</th>\n",
       "      <th>Ship_id</th>\n",
       "      <th>Cust_id</th>\n",
       "      <th>Sales</th>\n",
       "      <th>Discount</th>\n",
       "      <th>Order_Quantity</th>\n",
       "      <th>Profit</th>\n",
       "      <th>Shipping_Cost</th>\n",
       "      <th>Product_Base_Margin</th>\n",
       "      <th>Order_ID</th>\n",
       "      <th>Order_Date</th>\n",
       "      <th>Order_Priority</th>\n",
       "      <th>month</th>\n",
       "      <th>year</th>\n",
       "    </tr>\n",
       "  </thead>\n",
       "  <tbody>\n",
       "    <tr>\n",
       "      <th>0</th>\n",
       "      <td>Ord_5446</td>\n",
       "      <td>Prod_16</td>\n",
       "      <td>SHP_7609</td>\n",
       "      <td>Cust_1818</td>\n",
       "      <td>136.81</td>\n",
       "      <td>0.01</td>\n",
       "      <td>23</td>\n",
       "      <td>-30.51</td>\n",
       "      <td>3.60</td>\n",
       "      <td>0.56</td>\n",
       "      <td>36262</td>\n",
       "      <td>2010-07-27</td>\n",
       "      <td>NOT SPECIFIED</td>\n",
       "      <td>7</td>\n",
       "      <td>2010</td>\n",
       "    </tr>\n",
       "    <tr>\n",
       "      <th>1</th>\n",
       "      <td>Ord_5446</td>\n",
       "      <td>Prod_4</td>\n",
       "      <td>SHP_7610</td>\n",
       "      <td>Cust_1818</td>\n",
       "      <td>4701.69</td>\n",
       "      <td>0.00</td>\n",
       "      <td>26</td>\n",
       "      <td>1148.90</td>\n",
       "      <td>2.50</td>\n",
       "      <td>0.59</td>\n",
       "      <td>36262</td>\n",
       "      <td>2010-07-27</td>\n",
       "      <td>NOT SPECIFIED</td>\n",
       "      <td>7</td>\n",
       "      <td>2010</td>\n",
       "    </tr>\n",
       "    <tr>\n",
       "      <th>2</th>\n",
       "      <td>Ord_5446</td>\n",
       "      <td>Prod_6</td>\n",
       "      <td>SHP_7608</td>\n",
       "      <td>Cust_1818</td>\n",
       "      <td>164.02</td>\n",
       "      <td>0.03</td>\n",
       "      <td>23</td>\n",
       "      <td>-47.64</td>\n",
       "      <td>6.15</td>\n",
       "      <td>0.37</td>\n",
       "      <td>36262</td>\n",
       "      <td>2010-07-27</td>\n",
       "      <td>NOT SPECIFIED</td>\n",
       "      <td>7</td>\n",
       "      <td>2010</td>\n",
       "    </tr>\n",
       "    <tr>\n",
       "      <th>3</th>\n",
       "      <td>Ord_5406</td>\n",
       "      <td>Prod_13</td>\n",
       "      <td>SHP_7549</td>\n",
       "      <td>Cust_1818</td>\n",
       "      <td>42.27</td>\n",
       "      <td>0.01</td>\n",
       "      <td>13</td>\n",
       "      <td>4.56</td>\n",
       "      <td>0.93</td>\n",
       "      <td>0.54</td>\n",
       "      <td>20513</td>\n",
       "      <td>2009-07-07</td>\n",
       "      <td>HIGH</td>\n",
       "      <td>7</td>\n",
       "      <td>2009</td>\n",
       "    </tr>\n",
       "    <tr>\n",
       "      <th>4</th>\n",
       "      <td>Ord_5456</td>\n",
       "      <td>Prod_6</td>\n",
       "      <td>SHP_7625</td>\n",
       "      <td>Cust_1818</td>\n",
       "      <td>2337.89</td>\n",
       "      <td>0.09</td>\n",
       "      <td>43</td>\n",
       "      <td>729.34</td>\n",
       "      <td>14.30</td>\n",
       "      <td>0.37</td>\n",
       "      <td>39682</td>\n",
       "      <td>2010-09-11</td>\n",
       "      <td>MEDIUM</td>\n",
       "      <td>9</td>\n",
       "      <td>2010</td>\n",
       "    </tr>\n",
       "  </tbody>\n",
       "</table>\n",
       "</div>"
      ],
      "text/plain": [
       "     Ord_id  Prod_id   Ship_id    Cust_id    Sales  Discount  Order_Quantity  \\\n",
       "0  Ord_5446  Prod_16  SHP_7609  Cust_1818   136.81      0.01              23   \n",
       "1  Ord_5446   Prod_4  SHP_7610  Cust_1818  4701.69      0.00              26   \n",
       "2  Ord_5446   Prod_6  SHP_7608  Cust_1818   164.02      0.03              23   \n",
       "3  Ord_5406  Prod_13  SHP_7549  Cust_1818    42.27      0.01              13   \n",
       "4  Ord_5456   Prod_6  SHP_7625  Cust_1818  2337.89      0.09              43   \n",
       "\n",
       "    Profit  Shipping_Cost  Product_Base_Margin  Order_ID Order_Date  \\\n",
       "0   -30.51           3.60                 0.56     36262 2010-07-27   \n",
       "1  1148.90           2.50                 0.59     36262 2010-07-27   \n",
       "2   -47.64           6.15                 0.37     36262 2010-07-27   \n",
       "3     4.56           0.93                 0.54     20513 2009-07-07   \n",
       "4   729.34          14.30                 0.37     39682 2010-09-11   \n",
       "\n",
       "  Order_Priority  month  year  \n",
       "0  NOT SPECIFIED      7  2010  \n",
       "1  NOT SPECIFIED      7  2010  \n",
       "2  NOT SPECIFIED      7  2010  \n",
       "3           HIGH      7  2009  \n",
       "4         MEDIUM      9  2010  "
      ]
     },
     "execution_count": 8,
     "metadata": {},
     "output_type": "execute_result"
    }
   ],
   "source": [
    "# extracting month and year from date\n",
    "\n",
    "# extract month\n",
    "df['month'] = df['Order_Date'].dt.month\n",
    "\n",
    "# extract year\n",
    "df['year'] = df['Order_Date'].dt.year\n",
    "\n",
    "df.head()"
   ]
  },
  {
   "cell_type": "markdown",
   "metadata": {},
   "source": [
    "Now you can plot the average sales across years and months."
   ]
  },
  {
   "cell_type": "code",
   "execution_count": 9,
   "metadata": {},
   "outputs": [
    {
     "data": {
      "text/plain": [
       "year  month\n",
       "2009  1        1898.475090\n",
       "      2        2116.510723\n",
       "      3        2258.661599\n",
       "      4        2374.155868\n",
       "      5        1922.317055\n",
       "Name: Sales, dtype: float64"
      ]
     },
     "execution_count": 9,
     "metadata": {},
     "output_type": "execute_result"
    }
   ],
   "source": [
    "# grouping by year and month\n",
    "df_time = df.groupby([\"year\", \"month\"]).Sales.mean()\n",
    "df_time.head()\n"
   ]
  },
  {
   "cell_type": "code",
   "execution_count": 10,
   "metadata": {},
   "outputs": [
    {
     "name": "stderr",
     "output_type": "stream",
     "text": [
      "/Users/shivank/anaconda/lib/python3.5/site-packages/seaborn/timeseries.py:183: UserWarning: The tsplot function is deprecated and will be removed or replaced (in a substantially altered version) in a future release.\n",
      "  warnings.warn(msg, UserWarning)\n"
     ]
    },
    {
     "data": {
      "image/png": "[encoded data removed]",
      "text/plain": [
       "<matplotlib.figure.Figure at 0x1a0d371898>"
      ]
     },
     "metadata": {},
     "output_type": "display_data"
    }
   ],
   "source": [
    "plt.figure(figsize=(8, 6))\n",
    "# time series plot\n",
    "sns.tsplot(df_time)\n",
    "plt.xlabel(\"Time\")\n",
    "plt.ylabel(\"Sales\")\n",
    "plt.show()"
   ]
  },
  {
   "cell_type": "markdown",
   "metadata": {},
   "source": [
    "There is another way to visualise numeric variables, such as ```Sales```, across the year and month. We can pivot the ```month``` column to create a wide-format dataframe, and then plot a heatmap.\n"
   ]
  },
  {
   "cell_type": "code",
   "execution_count": 11,
   "metadata": {},
   "outputs": [
    {
     "data": {
      "text/html": [
       "<div>\n",
       "<style scoped>\n",
       "    .dataframe tbody tr th:only-of-type {\n",
       "        vertical-align: middle;\n",
       "    }\n",
       "\n",
       "    .dataframe tbody tr th {\n",
       "        vertical-align: top;\n",
       "    }\n",
       "\n",
       "    .dataframe thead th {\n",
       "        text-align: right;\n",
       "    }\n",
       "</style>\n",
       "<table border=\"1\" class=\"dataframe\">\n",
       "  <thead>\n",
       "    <tr style=\"text-align: right;\">\n",
       "      <th>month</th>\n",
       "      <th>1</th>\n",
       "      <th>2</th>\n",
       "      <th>3</th>\n",
       "      <th>4</th>\n",
       "      <th>5</th>\n",
       "      <th>6</th>\n",
       "      <th>7</th>\n",
       "      <th>8</th>\n",
       "      <th>9</th>\n",
       "      <th>10</th>\n",
       "      <th>11</th>\n",
       "      <th>12</th>\n",
       "    </tr>\n",
       "    <tr>\n",
       "      <th>year</th>\n",
       "      <th></th>\n",
       "      <th></th>\n",
       "      <th></th>\n",
       "      <th></th>\n",
       "      <th></th>\n",
       "      <th></th>\n",
       "      <th></th>\n",
       "      <th></th>\n",
       "      <th></th>\n",
       "      <th></th>\n",
       "      <th></th>\n",
       "      <th></th>\n",
       "    </tr>\n",
       "  </thead>\n",
       "  <tbody>\n",
       "    <tr>\n",
       "      <th>2009</th>\n",
       "      <td>1898.475090</td>\n",
       "      <td>2116.510723</td>\n",
       "      <td>2258.661599</td>\n",
       "      <td>2374.155868</td>\n",
       "      <td>1922.317055</td>\n",
       "      <td>1548.093259</td>\n",
       "      <td>1909.084469</td>\n",
       "      <td>1827.095921</td>\n",
       "      <td>1717.295494</td>\n",
       "      <td>2203.961070</td>\n",
       "      <td>1502.192743</td>\n",
       "      <td>2209.047484</td>\n",
       "    </tr>\n",
       "    <tr>\n",
       "      <th>2010</th>\n",
       "      <td>1549.664361</td>\n",
       "      <td>1591.532297</td>\n",
       "      <td>1708.934944</td>\n",
       "      <td>1461.935539</td>\n",
       "      <td>1440.393540</td>\n",
       "      <td>1695.397085</td>\n",
       "      <td>1272.653408</td>\n",
       "      <td>1277.917503</td>\n",
       "      <td>2216.599136</td>\n",
       "      <td>1927.250907</td>\n",
       "      <td>1806.324648</td>\n",
       "      <td>1869.720956</td>\n",
       "    </tr>\n",
       "    <tr>\n",
       "      <th>2011</th>\n",
       "      <td>1321.671562</td>\n",
       "      <td>1733.378070</td>\n",
       "      <td>1822.860614</td>\n",
       "      <td>2062.716921</td>\n",
       "      <td>1822.033936</td>\n",
       "      <td>1655.599644</td>\n",
       "      <td>1515.576260</td>\n",
       "      <td>1471.700741</td>\n",
       "      <td>1430.616748</td>\n",
       "      <td>1851.404564</td>\n",
       "      <td>2161.479056</td>\n",
       "      <td>1672.187881</td>\n",
       "    </tr>\n",
       "    <tr>\n",
       "      <th>2012</th>\n",
       "      <td>2220.831551</td>\n",
       "      <td>2438.166961</td>\n",
       "      <td>1578.284028</td>\n",
       "      <td>1325.253694</td>\n",
       "      <td>1865.744629</td>\n",
       "      <td>2192.228263</td>\n",
       "      <td>1824.935942</td>\n",
       "      <td>1090.950643</td>\n",
       "      <td>1628.963780</td>\n",
       "      <td>1636.951775</td>\n",
       "      <td>1935.183039</td>\n",
       "      <td>1747.047528</td>\n",
       "    </tr>\n",
       "  </tbody>\n",
       "</table>\n",
       "</div>"
      ],
      "text/plain": [
       "month           1            2            3            4            5   \\\n",
       "year                                                                     \n",
       "2009   1898.475090  2116.510723  2258.661599  2374.155868  1922.317055   \n",
       "2010   1549.664361  1591.532297  1708.934944  1461.935539  1440.393540   \n",
       "2011   1321.671562  1733.378070  1822.860614  2062.716921  1822.033936   \n",
       "2012   2220.831551  2438.166961  1578.284028  1325.253694  1865.744629   \n",
       "\n",
       "month           6            7            8            9            10  \\\n",
       "year                                                                     \n",
       "2009   1548.093259  1909.084469  1827.095921  1717.295494  2203.961070   \n",
       "2010   1695.397085  1272.653408  1277.917503  2216.599136  1927.250907   \n",
       "2011   1655.599644  1515.576260  1471.700741  1430.616748  1851.404564   \n",
       "2012   2192.228263  1824.935942  1090.950643  1628.963780  1636.951775   \n",
       "\n",
       "month           11           12  \n",
       "year                             \n",
       "2009   1502.192743  2209.047484  \n",
       "2010   1806.324648  1869.720956  \n",
       "2011   2161.479056  1672.187881  \n",
       "2012   1935.183039  1747.047528  "
      ]
     },
     "execution_count": 11,
     "metadata": {},
     "output_type": "execute_result"
    }
   ],
   "source": [
    "# Pivoting the data using 'month' \n",
    "year_month = pd.pivot_table(df, values='Sales', index='year', columns='month', aggfunc='mean')\n",
    "year_month.head()"
   ]
  },
  {
   "cell_type": "markdown",
   "metadata": {},
   "source": [
    "You can now create a heatmap using ```sns.heatmap()```."
   ]
  },
  {
   "cell_type": "code",
   "execution_count": 12,
   "metadata": {},
   "outputs": [
    {
     "data": {
      "image/png": "[encoded data removed]",
      "text/plain": [
       "<matplotlib.figure.Figure at 0x10655a5c0>"
      ]
     },
     "metadata": {},
     "output_type": "display_data"
    }
   ],
   "source": [
    "# figure size\n",
    "plt.figure(figsize=(12, 8))\n",
    "\n",
    "# heatmap with a color map of choice\n",
    "sns.heatmap(year_month, cmap=\"YlGnBu\")\n",
    "plt.show()"
   ]
  },
  {
   "cell_type": "markdown",
   "metadata": {},
   "source": [
    "### Addtional Reading on Time Series Plots and Heatmaps\n",
    "\n",
    "1. <A href=\"https://seaborn.pydata.org/generated/seaborn.heatmap.html\">Seaborn heatmaps (documentation)</a>\n"
   ]
  }
 ],
 "metadata": {
  "kernelspec": {
   "display_name": "Python [default]",
   "language": "python",
   "name": "python3"
  },
  "language_info": {
   "codemirror_mode": {
    "name": "ipython",
    "version": 3
   },
   "file_extension": ".py",
   "mimetype": "text/x-python",
   "name": "python",
   "nbconvert_exporter": "python",
   "pygments_lexer": "ipython3",
   "version": "3.5.4"
  }
 },
 "nbformat": 4,
 "nbformat_minor": 2
}
