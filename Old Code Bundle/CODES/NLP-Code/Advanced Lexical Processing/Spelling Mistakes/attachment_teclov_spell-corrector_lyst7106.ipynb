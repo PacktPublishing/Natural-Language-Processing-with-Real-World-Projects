{
 "cells": [
  {
   "cell_type": "code",
   "execution_count": 1,
   "metadata": {},
   "outputs": [],
   "source": [
    "import re\n",
    "from collections import Counter"
   ]
  },
  {
   "cell_type": "code",
   "execution_count": 2,
   "metadata": {},
   "outputs": [],
   "source": [
    "# function to tokenise words\n",
    "def words(document):\n",
    "    \"Convert text to lower case and tokenise the document\"\n",
    "    return re.findall(r'\\w+', document.lower())"
   ]
  },
  {
   "cell_type": "code",
   "execution_count": 3,
   "metadata": {},
   "outputs": [],
   "source": [
    "# create a frequency table of all the words of the document\n",
    "all_words = Counter(words(open('big.txt').read()))"
   ]
  },
  {
   "cell_type": "code",
   "execution_count": 4,
   "metadata": {},
   "outputs": [
    {
     "data": {
      "text/plain": [
       "135"
      ]
     },
     "execution_count": 4,
     "metadata": {},
     "output_type": "execute_result"
    }
   ],
   "source": [
    "# check frequency of a random word, say, 'chair'\n",
    "all_words['chair']"
   ]
  },
  {
   "cell_type": "code",
   "execution_count": 5,
   "metadata": {},
   "outputs": [
    {
     "data": {
      "text/plain": [
       "[('the', 79809),\n",
       " ('of', 40024),\n",
       " ('and', 38312),\n",
       " ('to', 28765),\n",
       " ('in', 22023),\n",
       " ('a', 21124),\n",
       " ('that', 12512),\n",
       " ('he', 12401),\n",
       " ('was', 11410),\n",
       " ('it', 10681)]"
      ]
     },
     "execution_count": 5,
     "metadata": {},
     "output_type": "execute_result"
    }
   ],
   "source": [
    "# look at top 10 frequent words\n",
    "all_words.most_common(10)"
   ]
  },
  {
   "cell_type": "code",
   "execution_count": 6,
   "metadata": {},
   "outputs": [],
   "source": [
    "def edits_one(word):\n",
    "    \"Create all edits that are one edit away from `word`.\"\n",
    "    alphabets    = 'abcdefghijklmnopqrstuvwxyz'\n",
    "    splits     = [(word[:i], word[i:])                   for i in range(len(word) + 1)]\n",
    "    deletes    = [left + right[1:]                       for left, right in splits if right]\n",
    "    inserts    = [left + c + right                       for left, right in splits for c in alphabets]\n",
    "    replaces   = [left + c + right[1:]                   for left, right in splits if right for c in alphabets]\n",
    "    transposes = [left + right[1] + right[0] + right[2:] for left, right in splits if len(right)>1]\n",
    "    return set(deletes + inserts + replaces + transposes)"
   ]
  },
  {
   "cell_type": "code",
   "execution_count": 11,
   "metadata": {},
   "outputs": [],
   "source": [
    "word = \"money\"\n",
    "alphabets    = 'abcdefghijklmnopqrstuvwxyz'\n",
    "splits     = [(word[:i], word[i:])                   for i in range(len(word) + 1)]\n",
    "deletes    = [left + right[1:]                       for left, right in splits if right]\n",
    "inserts    = [left + c + right                       for left, right in splits for c in alphabets]\n",
    "replaces   = [left + c + right[1:]                   for left, right in splits if right for c in alphabets]\n",
    "transposes = [left + right[1] + right[0] + right[2:] for left, right in splits if len(right)>1]\n"
   ]
  },
  {
   "cell_type": "code",
   "execution_count": 14,
   "metadata": {},
   "outputs": [
    {
     "data": {
      "text/plain": [
       "['omney', 'mnoey', 'moeny', 'monye']"
      ]
     },
     "execution_count": 14,
     "metadata": {},
     "output_type": "execute_result"
    }
   ],
   "source": [
    "transposes"
   ]
  },
  {
   "cell_type": "code",
   "execution_count": 7,
   "metadata": {},
   "outputs": [],
   "source": [
    "def edits_two(word):\n",
    "    \"Create all edits that are two edits away from `word`.\"\n",
    "    return (e2 for e1 in edits_one(word) for e2 in edits_one(e1))"
   ]
  },
  {
   "cell_type": "code",
   "execution_count": 8,
   "metadata": {},
   "outputs": [],
   "source": [
    "def known(words):\n",
    "    \"The subset of `words` that appear in the `all_words`.\"\n",
    "    return set(word for word in words if word in all_words)"
   ]
  },
  {
   "cell_type": "code",
   "execution_count": 9,
   "metadata": {},
   "outputs": [],
   "source": [
    "def possible_corrections(word):\n",
    "    \"Generate possible spelling corrections for word.\"\n",
    "    return (known([word]) or known(edits_one(word)) or known(edits_two(word)) or [word])"
   ]
  },
  {
   "cell_type": "code",
   "execution_count": 10,
   "metadata": {},
   "outputs": [],
   "source": [
    "def prob(word, N=sum(all_words.values())): \n",
    "    \"Probability of `word`: Number of appearances of 'word' / total number of tokens\"\n",
    "    return all_words[word] / N"
   ]
  },
  {
   "cell_type": "code",
   "execution_count": 20,
   "metadata": {},
   "outputs": [
    {
     "name": "stdout",
     "output_type": "stream",
     "text": [
      "1\n",
      "{'moniey', 'mopney', 'zonney', 'monneb', 'moanney', 'monnemy', 'qmonney', 'umonney', 'monbey', 'monwey', 'movnney', 'moxney', 'mmonney', 'mofnney', 'mfnney', 'montney', 'monnei', 'moinney', 'mpnney', 'tonney', 'muonney', 'emonney', 'monnfey', 'monnmey', 'monneyy', 'mgonney', 'gonney', 'monnty', 'monncey', 'xonney', 'monnes', 'monncy', 'monneyj', 'mionney', 'monyney', 'monntey', 'monoey', 'monned', 'mooney', 'monnrey', 'monnel', 'monneyk', 'lmonney', 'moneney', 'monnpey', 'monnet', 'monneyg', 'mohnney', 'mopnney', 'monqney', 'mnnney', 'mobnney', 'mnonney', 'rmonney', 'monneyb', 'monbney', 'monneyi', 'moneny', 'monnecy', 'monzney', 'mocnney', 'fmonney', 'mzonney', 'monnevy', 'monneya', 'zmonney', 'monjney', 'honney', 'ponney', 'wonney', 'monneyv', 'monhey', 'monsney', 'monnedy', 'monnef', 'monnexy', 'mogney', 'monneay', 'monney', 'moneey', 'monqey', 'monnay', 'monnen', 'mnoney', 'mronney', 'mongey', 'monnex', 'monpney', 'monnezy', 'monhney', 'ionney', 'monrney', 'monnyey', 'oonney', 'monjey', 'monnsy', 'jmonney', 'monnzey', 'aonney', 'fonney', 'moqney', 'pmonney', 'monne', 'sonney', 'tmonney', 'monrey', 'hmonney', 'monneky', 'monnby', 'mosney', 'monndy', 'omnney', 'monneu', 'monmney', 'moncney', 'monndey', 'monneny', 'monnly', 'monnepy', 'bonney', 'monnye', 'vmonney', 'momnney', 'msnney', 'wmonney', 'monniey', 'monneyo', 'mdonney', 'mjonney', 'monneby', 'monnqey', 'vonney', 'monner', 'monfney', 'monvey', 'modnney', 'mtnney', 'monneoy', 'morney', 'onney', 'monnwey', 'monneyz', 'monaney', 'mojnney', 'monneh', 'dmonney', 'moynney', 'monnzy', 'monnhy', 'mkonney', 'mownney', 'monneiy', 'mxnney', 'monneuy', 'monmey', 'minney', 'monnsey', 'monnek', 'monnesy', 'monneyq', 'monnmy', 'mongney', 'mbonney', 'moyney', 'monyey', 'monnbey', 'mozney', 'monnee', 'msonney', 'konney', 'monnvey', 'gmonney', 'monnley', 'moknney', 'lonney', 'monuney', 'monfey', 'mqnney', 'cmonney', 'moncey', 'montey', 'monnec', 'monnem', 'molney', 'donney', 'monkey', 'monnej', 'monnep', 'monnqy', 'mcnney', 'mobney', 'mhonney', 'monneyl', 'mknney', 'conney', 'monneq', 'meonney', 'monxney', 'monkney', 'monneyd', 'monsey', 'monnev', 'monley', 'qonney', 'mlonney', 'monneyn', 'monneye', 'mwnney', 'ronney', 'mornney', 'mondney', 'monnhey', 'mosnney', 'monaey', 'moiney', 'monneyw', 'monpey', 'monneyt', 'monneyc', 'monuey', 'mononey', 'smonney', 'monnejy', 'monneyr', 'ymonney', 'mlnney', 'monnely', 'mdnney', 'mocney', 'monniy', 'monnez', 'monnky', 'molnney', 'motnney', 'modney', 'munney', 'monnkey', 'monnea', 'monny', 'amonney', 'mjnney', 'maonney', 'moonney', 'mynney', 'moqnney', 'monxey', 'monnjey', 'uonney', 'mznney', 'monnney', 'monneyp', 'mohney', 'momney', 'monwney', 'nonney', 'mtonney', 'imonney', 'monnuy', 'monnwy', 'monnpy', 'monngy', 'monnoy', 'mrnney', 'mowney', 'monnxy', 'mponney', 'yonney', 'eonney', 'mbnney', 'mokney', 'mouney', 'mconney', 'monlney', 'monneqy', 'monzey', 'mondey', 'monneg', 'monnety', 'mgnney', 'monnny', 'mqonney', 'moznney', 'monnyy', 'monneyf', 'menney', 'mmnney', 'monneyu', 'monneyx', 'omonney', 'monnew', 'nmonney', 'mwonney', 'moxnney', 'monnery', 'mhnney', 'mxonney', 'monngey', 'monneyh', 'kmonney', 'monnjy', 'monnvy', 'bmonney', 'moenney', 'monneys', 'mvnney', 'movney', 'monneym', 'mojney', 'mognney', 'monnoey', 'motney', 'monnuey', 'mounney', 'xmonney', 'moniney', 'monnaey', 'mofney', 'monnfy', 'monnegy', 'monvney', 'mnney', 'monneo', 'moeney', 'money', 'monnehy', 'manney', 'monnxey', 'myonney', 'moaney', 'monnry', 'mfonney', 'mvonney', 'monneey', 'jonney', 'monnefy', 'monnewy'}\n"
     ]
    }
   ],
   "source": [
    "#print(len(set(edits_one(\"monney\"))))\n",
    "print(len(set(possible_corrections(\"emfasize\"))))\n",
    "\n",
    "print(edits_one(\"monney\"))"
   ]
  },
  {
   "cell_type": "code",
   "execution_count": 12,
   "metadata": {},
   "outputs": [
    {
     "name": "stdout",
     "output_type": "stream",
     "text": [
      "{'money', 'monkey'}\n"
     ]
    }
   ],
   "source": [
    "print(known(edits_one(\"monney\")))"
   ]
  },
  {
   "cell_type": "code",
   "execution_count": 13,
   "metadata": {},
   "outputs": [
    {
     "name": "stdout",
     "output_type": "stream",
     "text": [
      "51013\n",
      "{'money', 'monkey'}\n"
     ]
    }
   ],
   "source": [
    "# Let's look at words that are two edits away\n",
    "print(len(set(edits_two(\"monney\"))))\n",
    "print(known(edits_one(\"monney\")))"
   ]
  },
  {
   "cell_type": "code",
   "execution_count": 14,
   "metadata": {},
   "outputs": [
    {
     "name": "stdout",
     "output_type": "stream",
     "text": [
      "{'money', 'monkey'}\n"
     ]
    }
   ],
   "source": [
    "# Let's look at possible corrections of a word\n",
    "print(possible_corrections(\"monney\"))"
   ]
  },
  {
   "cell_type": "code",
   "execution_count": 15,
   "metadata": {},
   "outputs": [
    {
     "name": "stdout",
     "output_type": "stream",
     "text": [
      "0.0002922233626303688\n",
      "5.378344097491451e-06\n"
     ]
    }
   ],
   "source": [
    "# Let's look at probability of a word\n",
    "print(prob(\"money\"))\n",
    "print(prob(\"monkey\"))"
   ]
  },
  {
   "cell_type": "code",
   "execution_count": 16,
   "metadata": {},
   "outputs": [],
   "source": [
    "def spell_check(word):\n",
    "    \"Print the most probable spelling correction for `word` out of all the `possible_corrections`\"\n",
    "    correct_word = max(possible_corrections(word), key=prob)\n",
    "    if correct_word != word:\n",
    "        return \"Did you mean \" + correct_word + \"?\"\n",
    "    else:\n",
    "        return \"Correct spelling.\""
   ]
  },
  {
   "cell_type": "code",
   "execution_count": 17,
   "metadata": {},
   "outputs": [
    {
     "name": "stdout",
     "output_type": "stream",
     "text": [
      "Did you mean money?\n"
     ]
    }
   ],
   "source": [
    "# test spell check\n",
    "print(spell_check(\"monney\"))"
   ]
  }
 ],
 "metadata": {
  "kernelspec": {
   "display_name": "Python [default]",
   "language": "python",
   "name": "python3"
  },
  "language_info": {
   "codemirror_mode": {
    "name": "ipython",
    "version": 3
   },
   "file_extension": ".py",
   "mimetype": "text/x-python",
   "name": "python",
   "nbconvert_exporter": "python",
   "pygments_lexer": "ipython3",
   "version": "3.5.4"
  }
 },
 "nbformat": 4,
 "nbformat_minor": 2
}
