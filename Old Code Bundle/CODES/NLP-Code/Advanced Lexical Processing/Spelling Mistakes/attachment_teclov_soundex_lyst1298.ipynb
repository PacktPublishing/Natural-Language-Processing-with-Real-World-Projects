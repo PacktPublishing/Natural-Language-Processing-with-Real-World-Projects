{
 "cells": [
  {
   "cell_type": "markdown",
   "metadata": {},
   "source": [
    "## Soundex"
   ]
  },
  {
   "cell_type": "markdown",
   "metadata": {},
   "source": [
    "Let's create a function which calculates the soundex of any given string "
   ]
  },
  {
   "cell_type": "code",
   "execution_count": 1,
   "metadata": {
    "collapsed": true
   },
   "outputs": [],
   "source": [
    "def get_soundex(token):\n",
    "    \"\"\"Get the soundex code for the string\"\"\"\n",
    "    token = token.upper()\n",
    "\n",
    "    soundex = \"\"\n",
    "    \n",
    "    # first letter of input is always the first letter of soundex\n",
    "    soundex += token[0]\n",
    "    \n",
    "    # create a dictionary which maps letters to respective soundex codes. Vowels and 'H', 'W' and 'Y' will be represented by '.'\n",
    "    dictionary = {\"BFPV\": \"1\", \"CGJKQSXZ\":\"2\", \"DT\":\"3\", \"L\":\"4\", \"MN\":\"5\", \"R\":\"6\", \"AEIOUHWY\":\".\"}\n",
    "\n",
    "    for char in token[1:]:\n",
    "        for key in dictionary.keys():\n",
    "            if char in key:\n",
    "                code = dictionary[key]\n",
    "                if code != soundex[-1]:\n",
    "                    soundex += code\n",
    "\n",
    "    # remove vowels and 'H', 'W' and 'Y' from soundex\n",
    "    soundex = soundex.replace(\".\", \"\")\n",
    "    \n",
    "    # trim or pad to make soundex a 4-character code\n",
    "    soundex = soundex[:4].ljust(4, \"0\")\n",
    "        \n",
    "    return soundex"
   ]
  },
  {
   "cell_type": "markdown",
   "metadata": {},
   "source": [
    "Let's see what's the soudex of 'Bombay' and 'Bambai'"
   ]
  },
  {
   "cell_type": "code",
   "execution_count": 2,
   "metadata": {},
   "outputs": [
    {
     "name": "stdout",
     "output_type": "stream",
     "text": [
      "B510\n",
      "B510\n"
     ]
    }
   ],
   "source": [
    "print(get_soundex(\"Bombay\"))\n",
    "print(get_soundex(\"Bambai\"))"
   ]
  },
  {
   "cell_type": "markdown",
   "metadata": {},
   "source": [
    "Let's see soundex of 'Aggrawal', 'Agrawal', 'Aggarwal' and 'Agarwal'"
   ]
  },
  {
   "cell_type": "code",
   "execution_count": 3,
   "metadata": {},
   "outputs": [
    {
     "name": "stdout",
     "output_type": "stream",
     "text": [
      "A264\n",
      "A264\n",
      "A264\n",
      "A264\n"
     ]
    }
   ],
   "source": [
    "print(get_soundex(\"Aggrawal\"))\n",
    "print(get_soundex(\"Agrawal\"))\n",
    "print(get_soundex(\"Aggarwal\"))\n",
    "print(get_soundex(\"Agarwal\"))"
   ]
  }
 ],
 "metadata": {
  "kernelspec": {
   "display_name": "Python [default]",
   "language": "python",
   "name": "python3"
  },
  "language_info": {
   "codemirror_mode": {
    "name": "ipython",
    "version": 3
   },
   "file_extension": ".py",
   "mimetype": "text/x-python",
   "name": "python",
   "nbconvert_exporter": "python",
   "pygments_lexer": "ipython3",
   "version": "3.5.4"
  }
 },
 "nbformat": 4,
 "nbformat_minor": 2
}
